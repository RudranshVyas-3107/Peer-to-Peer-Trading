{
 "cells": [
  {
   "cell_type": "code",
   "execution_count": 1,
   "id": "d1eb190e",
   "metadata": {},
   "outputs": [],
   "source": [
    "class AverageUsagePJ:\n",
    "    def __init__(self):\n",
    "        self.usage_values = []  # To store the latest usage values\n",
    "\n",
    "    def update_usage(self, new_usage_value):\n",
    "        self.usage_values.append(new_usage_value)\n",
    "        if len(self.usage_values) > 5:\n",
    "            self.usage_values.pop(0)  # Remove the oldest value to keep the list size to 5\n",
    "\n",
    "    def calculate_average_usage(self):\n",
    "        if not self.usage_values:\n",
    "            return 0  # In case there are no usage values\n",
    "        return sum(self.usage_values) / len(self.usage_values)\n"
   ]
  },
  {
   "cell_type": "code",
   "execution_count": null,
   "id": "14af3f71",
   "metadata": {},
   "outputs": [],
   "source": []
  }
 ],
 "metadata": {
  "kernelspec": {
   "display_name": "Python 3 (ipykernel)",
   "language": "python",
   "name": "python3"
  },
  "language_info": {
   "codemirror_mode": {
    "name": "ipython",
    "version": 3
   },
   "file_extension": ".py",
   "mimetype": "text/x-python",
   "name": "python",
   "nbconvert_exporter": "python",
   "pygments_lexer": "ipython3",
   "version": "3.9.12"
  }
 },
 "nbformat": 4,
 "nbformat_minor": 5
}
